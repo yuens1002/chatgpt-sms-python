{
 "cells": [
  {
   "cell_type": "code",
   "execution_count": 2,
   "metadata": {},
   "outputs": [
    {
     "ename": "ModuleNotFoundError",
     "evalue": "No module named 'api'",
     "output_type": "error",
     "traceback": [
      "\u001b[1;31m---------------------------------------------------------------------------\u001b[0m",
      "\u001b[1;31mModuleNotFoundError\u001b[0m                       Traceback (most recent call last)",
      "Cell \u001b[1;32mIn[2], line 4\u001b[0m\n\u001b[0;32m      1\u001b[0m \u001b[38;5;66;03m# from zoho_booking_tools import ZohoCreateAppointment, ZohoCheckAvailability\u001b[39;00m\n\u001b[0;32m      2\u001b[0m \u001b[38;5;66;03m# from prompt.chat_prompt_chain import ChatPrompt\u001b[39;00m\n\u001b[0;32m      3\u001b[0m \u001b[38;5;66;03m# from langchain.agents import AgentExecutor, create_openai_tools_agent\u001b[39;00m\n\u001b[1;32m----> 4\u001b[0m \u001b[38;5;28;01mfrom\u001b[39;00m \u001b[38;5;21;01mapi\u001b[39;00m\u001b[38;5;21;01m.\u001b[39;00m\u001b[38;5;21;01mzoho_booking_api\u001b[39;00m \u001b[38;5;28;01mimport\u001b[39;00m ZohoBookingApi\n\u001b[0;32m      5\u001b[0m \u001b[38;5;66;03m# from ex_tool import CustomSearchTool\u001b[39;00m\n",
      "\u001b[1;31mModuleNotFoundError\u001b[0m: No module named 'api'"
     ]
    }
   ],
   "source": [
    "# from zoho_booking_tools import ZohoCreateAppointment, ZohoCheckAvailability\n",
    "# from prompt.chat_prompt_chain import ChatPrompt\n",
    "# from langchain.agents import AgentExecutor, create_openai_tools_agent\n",
    "from zoho_booking_api import ZohoBookingApi\n",
    "# from ex_tool import CustomSearchTool"
   ]
  }
 ],
 "metadata": {
  "kernelspec": {
   "display_name": "Python 3",
   "language": "python",
   "name": "python3"
  },
  "language_info": {
   "codemirror_mode": {
    "name": "ipython",
    "version": 3
   },
   "file_extension": ".py",
   "mimetype": "text/x-python",
   "name": "python",
   "nbconvert_exporter": "python",
   "pygments_lexer": "ipython3",
   "version": "3.11.7"
  }
 },
 "nbformat": 4,
 "nbformat_minor": 2
}
